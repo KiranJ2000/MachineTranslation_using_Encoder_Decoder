{
  "nbformat": 4,
  "nbformat_minor": 0,
  "metadata": {
    "colab": {
      "name": "Machine_translation.ipynb",
      "provenance": [],
      "collapsed_sections": []
    },
    "kernelspec": {
      "name": "python3",
      "display_name": "Python 3"
    },
    "accelerator": "GPU"
  },
  "cells": [
    {
      "cell_type": "markdown",
      "metadata": {
        "id": "5fopFSgEzRqV",
        "colab_type": "text"
      },
      "source": [
        "# **Introduction**\n",
        "\n",
        "The goal of this notebook is to convert an English Sentence to its Italian counterpart. I  will implement this task by using a simple seq-2-seq model. "
      ]
    },
    {
      "cell_type": "code",
      "metadata": {
        "id": "kdh9IfRjWjY_",
        "colab_type": "code",
        "outputId": "acabd83b-636b-4799-83fd-2aa0b83a6d3e",
        "colab": {
          "base_uri": "https://localhost:8080/",
          "height": 72
        }
      },
      "source": [
        "#Importing the required libraries\n",
        "import numpy as np\n",
        "import pandas as pd\n",
        "import matplotlib.pyplot as plt\n",
        "import seaborn as sns\n",
        "import warnings\n",
        "import re\n",
        "import operator\n",
        "import io\n",
        "import gzip\n",
        "%matplotlib inline\n",
        "import tensorflow\n",
        "import nltk\n",
        "from tqdm import tqdm\n",
        "from nltk.stem import WordNetLemmatizer,PorterStemmer\n",
        "from sklearn.model_selection import train_test_split\n",
        "from sklearn.utils import shuffle\n",
        "from tensorflow.keras.preprocessing.text import Tokenizer\n",
        "from tensorflow.keras.preprocessing.sequence import pad_sequences\n",
        "from tensorflow.keras.utils import to_categorical\n",
        "from tensorflow.keras.models import Model,Sequential\n",
        "from tensorflow.keras.layers import Input,LSTM,GRU,Dense,Bidirectional,Dropout,BatchNormalization,Embedding\n",
        "from tensorflow.keras.layers import Conv1D,SimpleRNN,SpatialDropout1D,Concatenate\n",
        "\n",
        "warnings.filterwarnings('ignore')"
      ],
      "execution_count": 0,
      "outputs": [
        {
          "output_type": "stream",
          "text": [
            "/usr/local/lib/python3.6/dist-packages/statsmodels/tools/_testing.py:19: FutureWarning: pandas.util.testing is deprecated. Use the functions in the public API at pandas.testing instead.\n",
            "  import pandas.util.testing as tm\n"
          ],
          "name": "stderr"
        }
      ]
    },
    {
      "cell_type": "code",
      "metadata": {
        "id": "Cy4Wb1zJDXJk",
        "colab_type": "code",
        "outputId": "545105c7-cad6-4014-ee84-31a09de56e06",
        "colab": {
          "base_uri": "https://localhost:8080/",
          "height": 104
        }
      },
      "source": [
        "nltk.download('punkt')\n",
        "nltk.download('wordnet')"
      ],
      "execution_count": 0,
      "outputs": [
        {
          "output_type": "stream",
          "text": [
            "[nltk_data] Downloading package punkt to /root/nltk_data...\n",
            "[nltk_data]   Unzipping tokenizers/punkt.zip.\n",
            "[nltk_data] Downloading package wordnet to /root/nltk_data...\n",
            "[nltk_data]   Unzipping corpora/wordnet.zip.\n"
          ],
          "name": "stdout"
        },
        {
          "output_type": "execute_result",
          "data": {
            "text/plain": [
              "True"
            ]
          },
          "metadata": {
            "tags": []
          },
          "execution_count": 2
        }
      ]
    },
    {
      "cell_type": "code",
      "metadata": {
        "id": "gdvzVktlWvfR",
        "colab_type": "code",
        "outputId": "50116909-b8fc-4a48-e83a-f069e6f81ba6",
        "colab": {
          "base_uri": "https://localhost:8080/",
          "height": 208
        }
      },
      "source": [
        "#The dataset\n",
        "!wget http://www.manythings.org/anki/ita-eng.zip"
      ],
      "execution_count": 0,
      "outputs": [
        {
          "output_type": "stream",
          "text": [
            "--2020-05-19 11:00:52--  http://www.manythings.org/anki/ita-eng.zip\n",
            "Resolving www.manythings.org (www.manythings.org)... 104.24.108.196, 104.24.109.196, 2606:4700:3033::6818:6dc4, ...\n",
            "Connecting to www.manythings.org (www.manythings.org)|104.24.108.196|:80... connected.\n",
            "HTTP request sent, awaiting response... 200 OK\n",
            "Length: 7345811 (7.0M) [application/zip]\n",
            "Saving to: ‘ita-eng.zip’\n",
            "\n",
            "ita-eng.zip         100%[===================>]   7.00M  1.93MB/s    in 3.6s    \n",
            "\n",
            "2020-05-19 11:00:56 (1.93 MB/s) - ‘ita-eng.zip’ saved [7345811/7345811]\n",
            "\n"
          ],
          "name": "stdout"
        }
      ]
    },
    {
      "cell_type": "code",
      "metadata": {
        "id": "GaXszxBOWyGj",
        "colab_type": "code",
        "outputId": "1a4a3119-b0b3-4d72-b827-aa0c83b18681",
        "colab": {
          "base_uri": "https://localhost:8080/",
          "height": 69
        }
      },
      "source": [
        "!unzip ita-eng*.zip"
      ],
      "execution_count": 0,
      "outputs": [
        {
          "output_type": "stream",
          "text": [
            "Archive:  ita-eng.zip\n",
            "  inflating: ita.txt                 \n",
            "  inflating: _about.txt              \n"
          ],
          "name": "stdout"
        }
      ]
    },
    {
      "cell_type": "code",
      "metadata": {
        "id": "leSctxp1W0Pv",
        "colab_type": "code",
        "outputId": "17037511-14d8-47b7-9ffc-e240c1d1384b",
        "colab": {
          "base_uri": "https://localhost:8080/",
          "height": 52
        }
      },
      "source": [
        "!ls\n",
        "!pwd"
      ],
      "execution_count": 0,
      "outputs": [
        {
          "output_type": "stream",
          "text": [
            "_about.txt  ita-eng.zip  ita.txt  sample_data\n",
            "/content\n"
          ],
          "name": "stdout"
        }
      ]
    },
    {
      "cell_type": "code",
      "metadata": {
        "id": "DCEya1CAW1bb",
        "colab_type": "code",
        "outputId": "dbe61082-7c07-4f9c-dcd7-b153ca9526bd",
        "colab": {
          "base_uri": "https://localhost:8080/",
          "height": 202
        }
      },
      "source": [
        "language = pd.read_table('ita.txt',names=['English','Italian','Attribution'])\n",
        "language.head()\n"
      ],
      "execution_count": 0,
      "outputs": [
        {
          "output_type": "execute_result",
          "data": {
            "text/html": [
              "<div>\n",
              "<style scoped>\n",
              "    .dataframe tbody tr th:only-of-type {\n",
              "        vertical-align: middle;\n",
              "    }\n",
              "\n",
              "    .dataframe tbody tr th {\n",
              "        vertical-align: top;\n",
              "    }\n",
              "\n",
              "    .dataframe thead th {\n",
              "        text-align: right;\n",
              "    }\n",
              "</style>\n",
              "<table border=\"1\" class=\"dataframe\">\n",
              "  <thead>\n",
              "    <tr style=\"text-align: right;\">\n",
              "      <th></th>\n",
              "      <th>English</th>\n",
              "      <th>Italian</th>\n",
              "      <th>Attribution</th>\n",
              "    </tr>\n",
              "  </thead>\n",
              "  <tbody>\n",
              "    <tr>\n",
              "      <th>0</th>\n",
              "      <td>Hi.</td>\n",
              "      <td>Ciao!</td>\n",
              "      <td>CC-BY 2.0 (France) Attribution: tatoeba.org #5...</td>\n",
              "    </tr>\n",
              "    <tr>\n",
              "      <th>1</th>\n",
              "      <td>Run!</td>\n",
              "      <td>Corri!</td>\n",
              "      <td>CC-BY 2.0 (France) Attribution: tatoeba.org #9...</td>\n",
              "    </tr>\n",
              "    <tr>\n",
              "      <th>2</th>\n",
              "      <td>Run!</td>\n",
              "      <td>Corra!</td>\n",
              "      <td>CC-BY 2.0 (France) Attribution: tatoeba.org #9...</td>\n",
              "    </tr>\n",
              "    <tr>\n",
              "      <th>3</th>\n",
              "      <td>Run!</td>\n",
              "      <td>Correte!</td>\n",
              "      <td>CC-BY 2.0 (France) Attribution: tatoeba.org #9...</td>\n",
              "    </tr>\n",
              "    <tr>\n",
              "      <th>4</th>\n",
              "      <td>Who?</td>\n",
              "      <td>Chi?</td>\n",
              "      <td>CC-BY 2.0 (France) Attribution: tatoeba.org #2...</td>\n",
              "    </tr>\n",
              "  </tbody>\n",
              "</table>\n",
              "</div>"
            ],
            "text/plain": [
              "  English   Italian                                        Attribution\n",
              "0     Hi.     Ciao!  CC-BY 2.0 (France) Attribution: tatoeba.org #5...\n",
              "1    Run!    Corri!  CC-BY 2.0 (France) Attribution: tatoeba.org #9...\n",
              "2    Run!    Corra!  CC-BY 2.0 (France) Attribution: tatoeba.org #9...\n",
              "3    Run!  Correte!  CC-BY 2.0 (France) Attribution: tatoeba.org #9...\n",
              "4    Who?      Chi?  CC-BY 2.0 (France) Attribution: tatoeba.org #2..."
            ]
          },
          "metadata": {
            "tags": []
          },
          "execution_count": 6
        }
      ]
    },
    {
      "cell_type": "code",
      "metadata": {
        "id": "Atc1dnv4W4fI",
        "colab_type": "code",
        "outputId": "115007d4-3f24-4c0a-be59-ea0d3f5e672f",
        "colab": {
          "base_uri": "https://localhost:8080/",
          "height": 173
        }
      },
      "source": [
        "language.drop('Attribution',axis=1,inplace=True)\n",
        "language.info()"
      ],
      "execution_count": 0,
      "outputs": [
        {
          "output_type": "stream",
          "text": [
            "<class 'pandas.core.frame.DataFrame'>\n",
            "RangeIndex: 336614 entries, 0 to 336613\n",
            "Data columns (total 2 columns):\n",
            " #   Column   Non-Null Count   Dtype \n",
            "---  ------   --------------   ----- \n",
            " 0   English  336614 non-null  object\n",
            " 1   Italian  336614 non-null  object\n",
            "dtypes: object(2)\n",
            "memory usage: 5.1+ MB\n"
          ],
          "name": "stdout"
        }
      ]
    },
    {
      "cell_type": "markdown",
      "metadata": {
        "id": "JWdS4NGcXAcI",
        "colab_type": "text"
      },
      "source": [
        "**There are 336614 training examples, since it will take a long time to train that much examples, i will cut short the training examples.**\n",
        "\n",
        "\n",
        "---\n",
        "\n",
        "**Removing long sentence so that during padding , there won't be any waste of memory**"
      ]
    },
    {
      "cell_type": "code",
      "metadata": {
        "id": "yw7lr4GJW9pS",
        "colab_type": "code",
        "outputId": "6d4867c5-04f7-4929-c5f1-49fb7d3d7e4d",
        "colab": {
          "base_uri": "https://localhost:8080/",
          "height": 763
        }
      },
      "source": [
        "language['No: of words(English)'] = language['English'].apply(lambda x: len(x.split()))\n",
        "language['No: of words(English)'].value_counts()"
      ],
      "execution_count": 0,
      "outputs": [
        {
          "output_type": "execute_result",
          "data": {
            "text/plain": [
              "5     73527\n",
              "6     64201\n",
              "4     63081\n",
              "7     43417\n",
              "3     34673\n",
              "8     23288\n",
              "2     11352\n",
              "9     11337\n",
              "10     5453\n",
              "11     2763\n",
              "12     1211\n",
              "13      815\n",
              "14      446\n",
              "15      354\n",
              "16      139\n",
              "18       72\n",
              "1        72\n",
              "17       71\n",
              "27       39\n",
              "28       37\n",
              "26       33\n",
              "25       29\n",
              "31       28\n",
              "19       25\n",
              "22       23\n",
              "24       20\n",
              "23       20\n",
              "20       14\n",
              "30       14\n",
              "21       13\n",
              "29       11\n",
              "43        7\n",
              "35        6\n",
              "33        4\n",
              "38        4\n",
              "47        4\n",
              "32        3\n",
              "34        2\n",
              "37        2\n",
              "39        2\n",
              "44        1\n",
              "42        1\n",
              "Name: No: of words(English), dtype: int64"
            ]
          },
          "metadata": {
            "tags": []
          },
          "execution_count": 8
        }
      ]
    },
    {
      "cell_type": "code",
      "metadata": {
        "id": "I_j02sXaYY0O",
        "colab_type": "code",
        "outputId": "0f3c3da6-ddbd-452d-baee-a2635432efb4",
        "colab": {
          "base_uri": "https://localhost:8080/",
          "height": 497
        }
      },
      "source": [
        "fig = plt.subplots(figsize=(15,8))\n",
        "sns.set_style('darkgrid')\n",
        "sns.barplot(x=language['No: of words(English)'].value_counts().index , y=language['No: of words(English)'].value_counts())\n",
        "plt.title('Value Counts',fontdict = {'fontsize':30})\n",
        "plt.xlabel('No: of words',fontdict={'fontsize':12})\n",
        "plt.ylabel('Count',fontdict={'fontsize':12})\n",
        "plt.tick_params(axis='both',labelsize=15)"
      ],
      "execution_count": 0,
      "outputs": [
        {
          "output_type": "display_data",
          "data": {
            "image/png": "[encoded data removed]",
            "text/plain": [
              "<Figure size 1080x576 with 1 Axes>"
            ]
          },
          "metadata": {
            "tags": []
          }
        }
      ]
    },
    {
      "cell_type": "markdown",
      "metadata": {
        "id": "6gZt3tprbTY6",
        "colab_type": "text"
      },
      "source": [
        "It is clear from the above **barplot** that most sentences  have  **5** words. And also some sentences have **47** words! We should remove them because when we pad short sentences , it will be a waste of memory."
      ]
    },
    {
      "cell_type": "code",
      "metadata": {
        "id": "epBfGZM5Zt86",
        "colab_type": "code",
        "outputId": "77227ea5-eca9-40b4-acb0-6833c969b312",
        "colab": {
          "base_uri": "https://localhost:8080/",
          "height": 191
        }
      },
      "source": [
        "language = language[language['No: of words(English)']<13]\n",
        "language.info()"
      ],
      "execution_count": 0,
      "outputs": [
        {
          "output_type": "stream",
          "text": [
            "<class 'pandas.core.frame.DataFrame'>\n",
            "Int64Index: 334375 entries, 0 to 336171\n",
            "Data columns (total 3 columns):\n",
            " #   Column                 Non-Null Count   Dtype \n",
            "---  ------                 --------------   ----- \n",
            " 0   English                334375 non-null  object\n",
            " 1   Italian                334375 non-null  object\n",
            " 2   No: of words(English)  334375 non-null  int64 \n",
            "dtypes: int64(1), object(2)\n",
            "memory usage: 10.2+ MB\n"
          ],
          "name": "stdout"
        }
      ]
    },
    {
      "cell_type": "markdown",
      "metadata": {
        "id": "1U30OQdjey6T",
        "colab_type": "text"
      },
      "source": [
        "Since there are **334375** training examples, I will be cutting short the dataset since training a large dataset in a model like encoder-decoder model will take a huge amount of time."
      ]
    },
    {
      "cell_type": "code",
      "metadata": {
        "id": "0cTN1uJ8eawn",
        "colab_type": "code",
        "colab": {}
      },
      "source": [
        "language = shuffle(language)\n",
        "language = language[:32000]"
      ],
      "execution_count": 0,
      "outputs": []
    },
    {
      "cell_type": "code",
      "metadata": {
        "id": "IRVcPaQsf0sb",
        "colab_type": "code",
        "outputId": "493e7423-2816-49f0-9616-6fe30a13681e",
        "colab": {
          "base_uri": "https://localhost:8080/",
          "height": 969
        }
      },
      "source": [
        "language.head(30)"
      ],
      "execution_count": 0,
      "outputs": [
        {
          "output_type": "execute_result",
          "data": {
            "text/html": [
              "<div>\n",
              "<style scoped>\n",
              "    .dataframe tbody tr th:only-of-type {\n",
              "        vertical-align: middle;\n",
              "    }\n",
              "\n",
              "    .dataframe tbody tr th {\n",
              "        vertical-align: top;\n",
              "    }\n",
              "\n",
              "    .dataframe thead th {\n",
              "        text-align: right;\n",
              "    }\n",
              "</style>\n",
              "<table border=\"1\" class=\"dataframe\">\n",
              "  <thead>\n",
              "    <tr style=\"text-align: right;\">\n",
              "      <th></th>\n",
              "      <th>English</th>\n",
              "      <th>Italian</th>\n",
              "      <th>No: of words(English)</th>\n",
              "    </tr>\n",
              "  </thead>\n",
              "  <tbody>\n",
              "    <tr>\n",
              "      <th>278049</th>\n",
              "      <td>Tom opened his beer and took a sip.</td>\n",
              "      <td>Tom ha aperto la sua birra e ne ha bevuto un s...</td>\n",
              "      <td>8</td>\n",
              "    </tr>\n",
              "    <tr>\n",
              "      <th>323693</th>\n",
              "      <td>He canceled the appointment at the last moment.</td>\n",
              "      <td>Annullò l'appuntamento all'ultimo momento.</td>\n",
              "      <td>8</td>\n",
              "    </tr>\n",
              "    <tr>\n",
              "      <th>109144</th>\n",
              "      <td>What's your objective?</td>\n",
              "      <td>Qual è il suo obiettivo?</td>\n",
              "      <td>3</td>\n",
              "    </tr>\n",
              "    <tr>\n",
              "      <th>206548</th>\n",
              "      <td>I thought Tom was Mary's son.</td>\n",
              "      <td>Pensavo che Tom fosse il figlio di Mary.</td>\n",
              "      <td>6</td>\n",
              "    </tr>\n",
              "    <tr>\n",
              "      <th>174606</th>\n",
              "      <td>I don't see any difference.</td>\n",
              "      <td>Non vedo alcuna differenza.</td>\n",
              "      <td>5</td>\n",
              "    </tr>\n",
              "    <tr>\n",
              "      <th>51723</th>\n",
              "      <td>Tom kept swimming.</td>\n",
              "      <td>Tom continuò a nuotare.</td>\n",
              "      <td>3</td>\n",
              "    </tr>\n",
              "    <tr>\n",
              "      <th>172395</th>\n",
              "      <td>Does Tom intend to help us?</td>\n",
              "      <td>Tom ha intenzione di aiutarci?</td>\n",
              "      <td>6</td>\n",
              "    </tr>\n",
              "    <tr>\n",
              "      <th>17352</th>\n",
              "      <td>Don't be cruel.</td>\n",
              "      <td>Non sia crudele.</td>\n",
              "      <td>3</td>\n",
              "    </tr>\n",
              "    <tr>\n",
              "      <th>323829</th>\n",
              "      <td>I became acquainted with your father yesterday.</td>\n",
              "      <td>Io ho fatto la conoscenza di vostro padre ieri.</td>\n",
              "      <td>7</td>\n",
              "    </tr>\n",
              "    <tr>\n",
              "      <th>192276</th>\n",
              "      <td>I wanted to become a doctor.</td>\n",
              "      <td>Io volevo diventare un dottore.</td>\n",
              "      <td>6</td>\n",
              "    </tr>\n",
              "    <tr>\n",
              "      <th>294412</th>\n",
              "      <td>I borrowed the book from this library.</td>\n",
              "      <td>Ho preso in prestito il libro da questa biblio...</td>\n",
              "      <td>7</td>\n",
              "    </tr>\n",
              "    <tr>\n",
              "      <th>121327</th>\n",
              "      <td>Tom hopes you're happy.</td>\n",
              "      <td>Tom spera che voi siate felici.</td>\n",
              "      <td>4</td>\n",
              "    </tr>\n",
              "    <tr>\n",
              "      <th>161215</th>\n",
              "      <td>I saw what you were doing.</td>\n",
              "      <td>Ho visto cosa stavate facendo.</td>\n",
              "      <td>6</td>\n",
              "    </tr>\n",
              "    <tr>\n",
              "      <th>177081</th>\n",
              "      <td>I'll phone you every night.</td>\n",
              "      <td>Vi telefonerò ogni sera.</td>\n",
              "      <td>5</td>\n",
              "    </tr>\n",
              "    <tr>\n",
              "      <th>21834</th>\n",
              "      <td>Tom seems busy.</td>\n",
              "      <td>Tom sembra occupato.</td>\n",
              "      <td>3</td>\n",
              "    </tr>\n",
              "    <tr>\n",
              "      <th>132069</th>\n",
              "      <td>I'm a bit disorientated.</td>\n",
              "      <td>Sono un po' disorientato.</td>\n",
              "      <td>4</td>\n",
              "    </tr>\n",
              "    <tr>\n",
              "      <th>172679</th>\n",
              "      <td>Don't you want to use mine?</td>\n",
              "      <td>Non volete usare le mie?</td>\n",
              "      <td>6</td>\n",
              "    </tr>\n",
              "    <tr>\n",
              "      <th>259907</th>\n",
              "      <td>Tom doesn't usually wear pajamas.</td>\n",
              "      <td>Tom solitamente non indossa un pigiama.</td>\n",
              "      <td>5</td>\n",
              "    </tr>\n",
              "    <tr>\n",
              "      <th>231935</th>\n",
              "      <td>I didn't want to humiliate you.</td>\n",
              "      <td>Non vi volevo umiliare.</td>\n",
              "      <td>6</td>\n",
              "    </tr>\n",
              "    <tr>\n",
              "      <th>85092</th>\n",
              "      <td>I can't confirm that.</td>\n",
              "      <td>Io non posso confermarlo.</td>\n",
              "      <td>4</td>\n",
              "    </tr>\n",
              "    <tr>\n",
              "      <th>284364</th>\n",
              "      <td>The trumpet is a musical instrument.</td>\n",
              "      <td>La tromba è uno strumento musicale.</td>\n",
              "      <td>6</td>\n",
              "    </tr>\n",
              "    <tr>\n",
              "      <th>229547</th>\n",
              "      <td>Aren't you glad you're retired?</td>\n",
              "      <td>Non sei felice di essere in pensione?</td>\n",
              "      <td>5</td>\n",
              "    </tr>\n",
              "    <tr>\n",
              "      <th>255443</th>\n",
              "      <td>I explained the reason in detail.</td>\n",
              "      <td>Spiegai la ragione in dettaglio.</td>\n",
              "      <td>6</td>\n",
              "    </tr>\n",
              "    <tr>\n",
              "      <th>31276</th>\n",
              "      <td>Who wrote these?</td>\n",
              "      <td>Chi ha scritto queste?</td>\n",
              "      <td>3</td>\n",
              "    </tr>\n",
              "    <tr>\n",
              "      <th>17906</th>\n",
              "      <td>His head ached.</td>\n",
              "      <td>Lui aveva il mal di testa.</td>\n",
              "      <td>3</td>\n",
              "    </tr>\n",
              "    <tr>\n",
              "      <th>225704</th>\n",
              "      <td>Tom said he didn't feel tired.</td>\n",
              "      <td>Tom disse di non sentirsi stanco.</td>\n",
              "      <td>6</td>\n",
              "    </tr>\n",
              "    <tr>\n",
              "      <th>134898</th>\n",
              "      <td>The rain turned to snow.</td>\n",
              "      <td>La pioggia si è trasformata in neve.</td>\n",
              "      <td>5</td>\n",
              "    </tr>\n",
              "    <tr>\n",
              "      <th>148080</th>\n",
              "      <td>I've called the hospital.</td>\n",
              "      <td>Ho chiamato l'ospedale.</td>\n",
              "      <td>4</td>\n",
              "    </tr>\n",
              "    <tr>\n",
              "      <th>147395</th>\n",
              "      <td>I'm crazy about football.</td>\n",
              "      <td>Vado matta per il calcio.</td>\n",
              "      <td>4</td>\n",
              "    </tr>\n",
              "    <tr>\n",
              "      <th>263810</th>\n",
              "      <td>Didn't you know I was from Boston?</td>\n",
              "      <td>Non sapevi che ero di Boston?</td>\n",
              "      <td>7</td>\n",
              "    </tr>\n",
              "  </tbody>\n",
              "</table>\n",
              "</div>"
            ],
            "text/plain": [
              "                                                English  ... No: of words(English)\n",
              "278049              Tom opened his beer and took a sip.  ...                     8\n",
              "323693  He canceled the appointment at the last moment.  ...                     8\n",
              "109144                           What's your objective?  ...                     3\n",
              "206548                    I thought Tom was Mary's son.  ...                     6\n",
              "174606                      I don't see any difference.  ...                     5\n",
              "51723                                Tom kept swimming.  ...                     3\n",
              "172395                      Does Tom intend to help us?  ...                     6\n",
              "17352                                   Don't be cruel.  ...                     3\n",
              "323829  I became acquainted with your father yesterday.  ...                     7\n",
              "192276                     I wanted to become a doctor.  ...                     6\n",
              "294412           I borrowed the book from this library.  ...                     7\n",
              "121327                          Tom hopes you're happy.  ...                     4\n",
              "161215                       I saw what you were doing.  ...                     6\n",
              "177081                      I'll phone you every night.  ...                     5\n",
              "21834                                   Tom seems busy.  ...                     3\n",
              "132069                         I'm a bit disorientated.  ...                     4\n",
              "172679                      Don't you want to use mine?  ...                     6\n",
              "259907                Tom doesn't usually wear pajamas.  ...                     5\n",
              "231935                  I didn't want to humiliate you.  ...                     6\n",
              "85092                             I can't confirm that.  ...                     4\n",
              "284364             The trumpet is a musical instrument.  ...                     6\n",
              "229547                  Aren't you glad you're retired?  ...                     5\n",
              "255443                I explained the reason in detail.  ...                     6\n",
              "31276                                  Who wrote these?  ...                     3\n",
              "17906                                   His head ached.  ...                     3\n",
              "225704                   Tom said he didn't feel tired.  ...                     6\n",
              "134898                         The rain turned to snow.  ...                     5\n",
              "148080                        I've called the hospital.  ...                     4\n",
              "147395                        I'm crazy about football.  ...                     4\n",
              "263810               Didn't you know I was from Boston?  ...                     7\n",
              "\n",
              "[30 rows x 3 columns]"
            ]
          },
          "metadata": {
            "tags": []
          },
          "execution_count": 11
        }
      ]
    },
    {
      "cell_type": "code",
      "metadata": {
        "id": "5dSvm1Eof57b",
        "colab_type": "code",
        "outputId": "201ae4de-d422-43ab-80a0-58a79f2341b5",
        "colab": {
          "base_uri": "https://localhost:8080/",
          "height": 534
        }
      },
      "source": [
        "fig = plt.subplots(figsize=(15,8))\n",
        "sns.set_style('darkgrid')\n",
        "sns.barplot(x=language['No: of words(English)'].value_counts().index , y=language['No: of words(English)'].value_counts())\n",
        "plt.title('Value Counts after removing outliers',fontdict = {'fontsize':30})\n",
        "plt.xlabel('No: of words',fontdict={'fontsize':12})\n",
        "plt.ylabel('Count',fontdict={'fontsize':12})\n",
        "plt.tick_params(axis='both',labelsize=15)"
      ],
      "execution_count": 0,
      "outputs": [
        {
          "output_type": "display_data",
          "data": {
            "image/png": "[encoded data removed]",
            "text/plain": [
              "<Figure size 1080x576 with 1 Axes>"
            ]
          },
          "metadata": {
            "tags": []
          }
        }
      ]
    },
    {
      "cell_type": "markdown",
      "metadata": {
        "id": "_-wkeDOGgeof",
        "colab_type": "text"
      },
      "source": [
        "It is evident from the above **barplot** that the dataset is now **less skewed** and is now **more normalized**"
      ]
    },
    {
      "cell_type": "markdown",
      "metadata": {
        "id": "SsdXOkT00Nf_",
        "colab_type": "text"
      },
      "source": [
        "\n",
        "\n",
        "---\n",
        "# **Data Cleaning**\n"
      ]
    },
    {
      "cell_type": "code",
      "metadata": {
        "id": "BPjkU-TkzuAt",
        "colab_type": "code",
        "outputId": "efbcc8db-ffcf-45c3-b77a-7fa4d9697483",
        "colab": {
          "base_uri": "https://localhost:8080/",
          "height": 969
        }
      },
      "source": [
        "def clean(text):\n",
        "\n",
        "  text = text.lower()\n",
        "  text = re.sub('\\.','',text)\n",
        "  text = re.sub('\\,','',text)\n",
        "  text = re.sub(\"[\\!\\?\\&\\@\\#]\",'',text)\n",
        "  return text\n",
        "\n",
        "def cleanword(text):\n",
        "\n",
        "  text = re.sub(\"aren't\", \"are not\",text)\n",
        "  text = re.sub(\"can't\",\"cannot\",text)\n",
        "  text = re.sub(\"don't\",\"do not\",text)\n",
        "  text = re.sub(\"couldn't\",\"could not\",text)\n",
        "  text = re.sub(\"doesn't\",\"does not\",text)\n",
        "  text = re.sub(\"hadn't\",\"had not\",text)\n",
        "  text = re.sub(\"where's\",\"where is\",text)\n",
        "  text = re.sub(\"wouldn't\",\"would not\",text)\n",
        "  text = re.sub(\"he'll\",\"he will\",text)\n",
        "  text = re.sub(\"what've\",\"what have\",text)\n",
        "  text = re.sub(\"who'd\",\"who would\",text)\n",
        "  text = re.sub(\"haven't\",\"have not\",text)\n",
        "  text = re.sub(\"who'll\",\"who will\",text)\n",
        "  text = re.sub(\"i'll\",\"i will\",text)\n",
        "  text = re.sub(\"i've\",\"i have\",text)\n",
        "  text = re.sub(\"i'm\",\"i am\",text)\n",
        "  text = re.sub(\"we're\",\"we are\",text)\n",
        "  text = re.sub(\"he's\",\"he is\",text)\n",
        "  text = re.sub(\"i'd\",\"i would\",text)\n",
        "  text = re.sub(\"you'd\",\"you would\",text)\n",
        "  text = re.sub(\"you'll\",\"you will\",text)\n",
        "  text = re.sub(\"you're\",\"you are\",text)\n",
        "  text = re.sub(\"you've\",\"you have\",text)\n",
        "  text = re.sub(\"wasn't\",\"was not\",text)\n",
        "  text = re.sub(\"that's\",\"that is\",text)\n",
        "  text = re.sub(\"isn't\",\"is not\",text)\n",
        "  text = re.sub(\"didn't\",\"did not\",text)\n",
        "  text = re.sub(\"they've\",\"they have\",text)\n",
        "  text = re.sub(\"they're\",\"they are\",text)\n",
        "  text = re.sub(\"they'll\",\"they will\",text)\n",
        "  text = re.sub(\"what's\",\"what is\",text)\n",
        "  text = re.sub(\"what're\",\"what are\",text)\n",
        "  text = re.sub(\"what'll\",\"what will\",text)\n",
        "  text = re.sub(\"there's\",\"there is\",text)\n",
        "  text = re.sub(\"it's\",\"it is\",text)\n",
        "  text = re.sub(\"it'll\",\"it will\",text)\n",
        "  text = re.sub(\"could've\",\"could have\",text)\n",
        "  text = re.sub(\"it'll\",\"it will\",text)\n",
        "  text = re.sub(\"shouldn't\",\"should not\",text)\n",
        "  text = re.sub(\"should've\",\"should have\",text)\n",
        "  text = re.sub(\"shan't\",\"shall not\",text)\n",
        "  text = re.sub(\"won't\",\"will not\",text)\n",
        "  text = re.sub(\"we'd\",\"we would\",text)\n",
        "  text = re.sub(\"let's\",\"let us\",text)\n",
        "  text = re.sub(\"that'll\",\"that will\",text)\n",
        "\n",
        "\n",
        "  text = re.sub(\"weren't\",\"were not\",text)\n",
        "  return text\n",
        "\n",
        "language['English'] = language['English'].apply(lambda x: clean(x))\n",
        "language['Italian'] = language['Italian'].apply(lambda x: clean(x))\n",
        "language['English'] = language['English'].apply(lambda x: cleanword(x))\n",
        "language['English'] = language['English'].apply(lambda x: x.strip())\n",
        "language['Italian'] = language['Italian'].apply(lambda x: x.strip())\n",
        "language['English'] = language['English'].apply(lambda x: re.sub(\" +\", \" \", x))\n",
        "language['Italian'] = language['Italian'].apply(lambda x: re.sub(\" +\", \" \", x))\n",
        "\n",
        "language['Italian'] = language['Italian'].apply(lambda x: 'start_ '+ x + ' _end')\n",
        "language.head(30)"
      ],
      "execution_count": 0,
      "outputs": [
        {
          "output_type": "execute_result",
          "data": {
            "text/html": [
              "<div>\n",
              "<style scoped>\n",
              "    .dataframe tbody tr th:only-of-type {\n",
              "        vertical-align: middle;\n",
              "    }\n",
              "\n",
              "    .dataframe tbody tr th {\n",
              "        vertical-align: top;\n",
              "    }\n",
              "\n",
              "    .dataframe thead th {\n",
              "        text-align: right;\n",
              "    }\n",
              "</style>\n",
              "<table border=\"1\" class=\"dataframe\">\n",
              "  <thead>\n",
              "    <tr style=\"text-align: right;\">\n",
              "      <th></th>\n",
              "      <th>English</th>\n",
              "      <th>Italian</th>\n",
              "      <th>No: of words(English)</th>\n",
              "    </tr>\n",
              "  </thead>\n",
              "  <tbody>\n",
              "    <tr>\n",
              "      <th>125558</th>\n",
              "      <td>you need to study more</td>\n",
              "      <td>start_ ha bisogno di studiare di più _end</td>\n",
              "      <td>5</td>\n",
              "    </tr>\n",
              "    <tr>\n",
              "      <th>335070</th>\n",
              "      <td>the main islands of japan are hokkaido shikoku...</td>\n",
              "      <td>start_ le isole principali del giappone sono h...</td>\n",
              "      <td>11</td>\n",
              "    </tr>\n",
              "    <tr>\n",
              "      <th>70612</th>\n",
              "      <td>he is afraid of dogs</td>\n",
              "      <td>start_ ha paura dei cani _end</td>\n",
              "      <td>4</td>\n",
              "    </tr>\n",
              "    <tr>\n",
              "      <th>102092</th>\n",
              "      <td>i would do this every day</td>\n",
              "      <td>start_ io farei questo ogni giorno _end</td>\n",
              "      <td>5</td>\n",
              "    </tr>\n",
              "    <tr>\n",
              "      <th>332361</th>\n",
              "      <td>many students compete to get into the best uni...</td>\n",
              "      <td>start_ molti studenti competono per entrare ne...</td>\n",
              "      <td>9</td>\n",
              "    </tr>\n",
              "    <tr>\n",
              "      <th>64932</th>\n",
              "      <td>tom threw the dart</td>\n",
              "      <td>start_ tom ha lanciato il dardo _end</td>\n",
              "      <td>4</td>\n",
              "    </tr>\n",
              "    <tr>\n",
              "      <th>48956</th>\n",
              "      <td>keep following me</td>\n",
              "      <td>start_ continua a seguirmi _end</td>\n",
              "      <td>3</td>\n",
              "    </tr>\n",
              "    <tr>\n",
              "      <th>289755</th>\n",
              "      <td>i have never eaten chinese food before</td>\n",
              "      <td>start_ non ho mai mangiato del cibo cinese pri...</td>\n",
              "      <td>6</td>\n",
              "    </tr>\n",
              "    <tr>\n",
              "      <th>124565</th>\n",
              "      <td>why are you mad at tom</td>\n",
              "      <td>start_ perché sei arrabbiato con tom _end</td>\n",
              "      <td>6</td>\n",
              "    </tr>\n",
              "    <tr>\n",
              "      <th>215031</th>\n",
              "      <td>you do that a lot do not you</td>\n",
              "      <td>start_ lo fate molto vero _end</td>\n",
              "      <td>7</td>\n",
              "    </tr>\n",
              "    <tr>\n",
              "      <th>111749</th>\n",
              "      <td>could you turn it down</td>\n",
              "      <td>start_ potresti abbassarla _end</td>\n",
              "      <td>5</td>\n",
              "    </tr>\n",
              "    <tr>\n",
              "      <th>81317</th>\n",
              "      <td>you need protection</td>\n",
              "      <td>start_ lei ha bisogno di protezione _end</td>\n",
              "      <td>3</td>\n",
              "    </tr>\n",
              "    <tr>\n",
              "      <th>300025</th>\n",
              "      <td>i do not mind sharing the room with him</td>\n",
              "      <td>start_ non mi dispiace condividere la stanza c...</td>\n",
              "      <td>8</td>\n",
              "    </tr>\n",
              "    <tr>\n",
              "      <th>104483</th>\n",
              "      <td>she needs to help him</td>\n",
              "      <td>start_ lei deve aiutarlo _end</td>\n",
              "      <td>5</td>\n",
              "    </tr>\n",
              "    <tr>\n",
              "      <th>32968</th>\n",
              "      <td>come with us now</td>\n",
              "      <td>start_ vieni con noi adesso _end</td>\n",
              "      <td>4</td>\n",
              "    </tr>\n",
              "    <tr>\n",
              "      <th>145313</th>\n",
              "      <td>i just want to thank you</td>\n",
              "      <td>start_ voglio semplicemente ringraziarla _end</td>\n",
              "      <td>6</td>\n",
              "    </tr>\n",
              "    <tr>\n",
              "      <th>217632</th>\n",
              "      <td>he is too dumb to fear danger</td>\n",
              "      <td>start_ è troppo stupido per temere il pericolo...</td>\n",
              "      <td>7</td>\n",
              "    </tr>\n",
              "    <tr>\n",
              "      <th>238250</th>\n",
              "      <td>tom keeps saying he is innocent</td>\n",
              "      <td>start_ tom continua a dire che è innocente _end</td>\n",
              "      <td>5</td>\n",
              "    </tr>\n",
              "    <tr>\n",
              "      <th>327831</th>\n",
              "      <td>all of my kids went to boston to visit my parents</td>\n",
              "      <td>start_ tutti i miei ragazzi sono andati a bost...</td>\n",
              "      <td>11</td>\n",
              "    </tr>\n",
              "    <tr>\n",
              "      <th>194243</th>\n",
              "      <td>my favorite color is orange</td>\n",
              "      <td>start_ il mio colore preferito è l'arancione _end</td>\n",
              "      <td>5</td>\n",
              "    </tr>\n",
              "    <tr>\n",
              "      <th>191445</th>\n",
              "      <td>i regret becoming a teacher</td>\n",
              "      <td>start_ rimpiango di essere diventato un'insegn...</td>\n",
              "      <td>5</td>\n",
              "    </tr>\n",
              "    <tr>\n",
              "      <th>308518</th>\n",
              "      <td>i do some work for tom from time to time</td>\n",
              "      <td>start_ io faccio qualche lavoro per tom di tan...</td>\n",
              "      <td>10</td>\n",
              "    </tr>\n",
              "    <tr>\n",
              "      <th>76997</th>\n",
              "      <td>this is a long list</td>\n",
              "      <td>start_ questa è una lunga lista _end</td>\n",
              "      <td>5</td>\n",
              "    </tr>\n",
              "    <tr>\n",
              "      <th>129185</th>\n",
              "      <td>i cook a little at home</td>\n",
              "      <td>start_ cucino un po' a casa _end</td>\n",
              "      <td>6</td>\n",
              "    </tr>\n",
              "    <tr>\n",
              "      <th>249056</th>\n",
              "      <td>tom did not answer your question</td>\n",
              "      <td>start_ tom non ha risposto alla sua domanda _end</td>\n",
              "      <td>5</td>\n",
              "    </tr>\n",
              "    <tr>\n",
              "      <th>65864</th>\n",
              "      <td>we want a decision</td>\n",
              "      <td>start_ noi vogliamo una decisione _end</td>\n",
              "      <td>4</td>\n",
              "    </tr>\n",
              "    <tr>\n",
              "      <th>206320</th>\n",
              "      <td>i suggested going for a walk</td>\n",
              "      <td>start_ ho suggerito di andare a fare una passe...</td>\n",
              "      <td>6</td>\n",
              "    </tr>\n",
              "    <tr>\n",
              "      <th>69917</th>\n",
              "      <td>get tom out of here</td>\n",
              "      <td>start_ porti tom fuori da qui _end</td>\n",
              "      <td>5</td>\n",
              "    </tr>\n",
              "    <tr>\n",
              "      <th>182123</th>\n",
              "      <td>tom knows mary kissed john</td>\n",
              "      <td>start_ tom sa che mary ha baciato john _end</td>\n",
              "      <td>5</td>\n",
              "    </tr>\n",
              "    <tr>\n",
              "      <th>84391</th>\n",
              "      <td>he sank into a chair</td>\n",
              "      <td>start_ sprofondò in una sedia _end</td>\n",
              "      <td>5</td>\n",
              "    </tr>\n",
              "  </tbody>\n",
              "</table>\n",
              "</div>"
            ],
            "text/plain": [
              "                                                  English  ... No: of words(English)\n",
              "125558                             you need to study more  ...                     5\n",
              "335070  the main islands of japan are hokkaido shikoku...  ...                    11\n",
              "70612                                he is afraid of dogs  ...                     4\n",
              "102092                          i would do this every day  ...                     5\n",
              "332361  many students compete to get into the best uni...  ...                     9\n",
              "64932                                  tom threw the dart  ...                     4\n",
              "48956                                   keep following me  ...                     3\n",
              "289755             i have never eaten chinese food before  ...                     6\n",
              "124565                             why are you mad at tom  ...                     6\n",
              "215031                       you do that a lot do not you  ...                     7\n",
              "111749                             could you turn it down  ...                     5\n",
              "81317                                 you need protection  ...                     3\n",
              "300025            i do not mind sharing the room with him  ...                     8\n",
              "104483                              she needs to help him  ...                     5\n",
              "32968                                    come with us now  ...                     4\n",
              "145313                           i just want to thank you  ...                     6\n",
              "217632                      he is too dumb to fear danger  ...                     7\n",
              "238250                    tom keeps saying he is innocent  ...                     5\n",
              "327831  all of my kids went to boston to visit my parents  ...                    11\n",
              "194243                        my favorite color is orange  ...                     5\n",
              "191445                        i regret becoming a teacher  ...                     5\n",
              "308518           i do some work for tom from time to time  ...                    10\n",
              "76997                                 this is a long list  ...                     5\n",
              "129185                            i cook a little at home  ...                     6\n",
              "249056                   tom did not answer your question  ...                     5\n",
              "65864                                  we want a decision  ...                     4\n",
              "206320                       i suggested going for a walk  ...                     6\n",
              "69917                                 get tom out of here  ...                     5\n",
              "182123                         tom knows mary kissed john  ...                     5\n",
              "84391                                he sank into a chair  ...                     5\n",
              "\n",
              "[30 rows x 3 columns]"
            ]
          },
          "metadata": {
            "tags": []
          },
          "execution_count": 13
        }
      ]
    },
    {
      "cell_type": "code",
      "metadata": {
        "id": "rGt7KAtkBdKM",
        "colab_type": "code",
        "colab": {}
      },
      "source": [
        "ps = PorterStemmer() \n",
        "lemmatizer = WordNetLemmatizer() \n",
        "\n",
        "def get_embedding(filename,word_index,vocab_len,dim):\n",
        "\n",
        "  embedding_index={}\n",
        "  if filename.split('.')[-1] == 'vec':\n",
        "    f = open(filename,encoding='utf-8')\n",
        "    for line in f:\n",
        "      values = line.split()\n",
        "      word = values[0]\n",
        "      coeff = np.asarray(values[1:],dtype='float32')\n",
        "      embedding_index[word] = coeff\n",
        "    f.close()\n",
        "  elif filename.split('.')[-1] == 'gz':\n",
        "    f = gzip.open(filename)\n",
        "    for line in f:\n",
        "      values = line.split()\n",
        "      word = values[0].decode(encoding='utf-8')\n",
        "      coeff = np.asarray(values[1:],dtype='float32')\n",
        "      embedding_index[word] = coeff\n",
        "    f.close()\n",
        "  embedding_matrix = np.zeros((vocab_len+1,dim))\n",
        "  for word,index in tqdm(word_index.items()):\n",
        "    if index>vocab_len:\n",
        "      continue    \n",
        "    embedding_vector = embedding_index.get(word)\n",
        "    if embedding_vector is None:\n",
        "      embedding_vector = embedding_index.get(lemmatizer.lemmatize(word))\n",
        "    elif embedding_vector is None:\n",
        "      embedding_vector = embedding_index.get(ps.stem(word))\n",
        "    elif embedding_vector is not None:\n",
        "      embedding_matrix[index] = embedding_vector\n",
        "\n",
        "  return embedding_matrix,embedding_index"
      ],
      "execution_count": 0,
      "outputs": []
    },
    {
      "cell_type": "code",
      "metadata": {
        "id": "8tsiPmVQFw-C",
        "colab_type": "code",
        "colab": {}
      },
      "source": [
        "english_corpus = np.asarray(language['English'])\n",
        "tokenizer_english = Tokenizer(num_words = 25000,filters='')\n",
        "tokenizer_english.fit_on_texts(english_corpus)\n",
        "english_sequence = tokenizer_english.texts_to_sequences(english_corpus)\n",
        "\n",
        "english_vocab_len = len(tokenizer_english.word_index)+1\n",
        "max_english_len = max(len(s) for s in english_sequence)"
      ],
      "execution_count": 0,
      "outputs": []
    },
    {
      "cell_type": "code",
      "metadata": {
        "id": "Mnnldm1hLVxR",
        "colab_type": "code",
        "colab": {}
      },
      "source": [
        "italian_corpus_input = np.asarray(language['Italian'])\n",
        "tokenizer_italian = Tokenizer(num_words=25000,filters='')\n",
        "tokenizer_italian.fit_on_texts(italian_corpus_input)\n",
        "italian_input_sequence = tokenizer_italian.texts_to_sequences(italian_corpus_input)\n",
        "\n",
        "italian_vocab_len = len(tokenizer_italian.word_index)+1\n",
        "max_italian_len = max(len(s) for s in italian_input_sequence )"
      ],
      "execution_count": 0,
      "outputs": []
    },
    {
      "cell_type": "code",
      "metadata": {
        "id": "PWkcoBYoLa_M",
        "colab_type": "code",
        "outputId": "814431e3-9138-4bbd-cd81-7db1ff1c316b",
        "colab": {
          "base_uri": "https://localhost:8080/",
          "height": 208
        }
      },
      "source": [
        "# Importing the pre-trained word embeddings for english and italian!\n",
        "!wget https://dl.fbaipublicfiles.com/fasttext/vectors-english/wiki-news-300d-1M.vec.zip"
      ],
      "execution_count": 0,
      "outputs": [
        {
          "output_type": "stream",
          "text": [
            "--2020-05-19 11:02:23--  https://dl.fbaipublicfiles.com/fasttext/vectors-english/wiki-news-300d-1M.vec.zip\n",
            "Resolving dl.fbaipublicfiles.com (dl.fbaipublicfiles.com)... 104.22.74.142, 104.22.75.142, 2606:4700:10::6816:4b8e, ...\n",
            "Connecting to dl.fbaipublicfiles.com (dl.fbaipublicfiles.com)|104.22.74.142|:443... connected.\n",
            "HTTP request sent, awaiting response... 200 OK\n",
            "Length: 681808098 (650M) [application/zip]\n",
            "Saving to: ‘wiki-news-300d-1M.vec.zip’\n",
            "\n",
            "wiki-news-300d-1M.v 100%[===================>] 650.22M  12.4MB/s    in 54s     \n",
            "\n",
            "2020-05-19 11:03:19 (12.0 MB/s) - ‘wiki-news-300d-1M.vec.zip’ saved [681808098/681808098]\n",
            "\n"
          ],
          "name": "stdout"
        }
      ]
    },
    {
      "cell_type": "code",
      "metadata": {
        "id": "zxWsHv-kz_eJ",
        "colab_type": "code",
        "outputId": "300d166d-1e44-4b78-999b-54b2c8402dc7",
        "colab": {
          "base_uri": "https://localhost:8080/",
          "height": 52
        }
      },
      "source": [
        "!unzip wiki-news-300d-1M.vec*.zip"
      ],
      "execution_count": 0,
      "outputs": [
        {
          "output_type": "stream",
          "text": [
            "Archive:  wiki-news-300d-1M.vec.zip\n",
            "  inflating: wiki-news-300d-1M.vec   \n"
          ],
          "name": "stdout"
        }
      ]
    },
    {
      "cell_type": "code",
      "metadata": {
        "id": "do44Cg4z0Obd",
        "colab_type": "code",
        "outputId": "2f3e5b7e-f0a9-4a76-e44a-6ffaa0800207",
        "colab": {
          "base_uri": "https://localhost:8080/",
          "height": 69
        }
      },
      "source": [
        "!ls\n",
        "!pwd"
      ],
      "execution_count": 0,
      "outputs": [
        {
          "output_type": "stream",
          "text": [
            "_about.txt   ita.txt\t  wiki-news-300d-1M.vec\n",
            "ita-eng.zip  sample_data  wiki-news-300d-1M.vec.zip\n",
            "/content\n"
          ],
          "name": "stdout"
        }
      ]
    },
    {
      "cell_type": "code",
      "metadata": {
        "id": "6UNASvB50nPa",
        "colab_type": "code",
        "outputId": "4ae8242f-af5d-4ec5-9eaf-3488b113e868",
        "colab": {
          "base_uri": "https://localhost:8080/",
          "height": 35
        }
      },
      "source": [
        "embedding_matrix_eng,embedding_index_eng = get_embedding('wiki-news-300d-1M.vec',tokenizer_english.word_index,english_vocab_len,300)"
      ],
      "execution_count": 0,
      "outputs": [
        {
          "output_type": "stream",
          "text": [
            "100%|██████████| 6824/6824 [00:01<00:00, 4661.06it/s]\n"
          ],
          "name": "stderr"
        }
      ]
    },
    {
      "cell_type": "code",
      "metadata": {
        "id": "Kceg5Bqv1jvD",
        "colab_type": "code",
        "outputId": "b72f9c85-6f6f-4568-8d52-cddabd499835",
        "colab": {
          "base_uri": "https://localhost:8080/",
          "height": 208
        }
      },
      "source": [
        "!wget https://dl.fbaipublicfiles.com/fasttext/vectors-crawl/cc.it.300.vec.gz\n",
        "#!wget https://dl.fbaipublicfiles.com/fasttext/vectors-wiki/wiki.it.vec\n"
      ],
      "execution_count": 0,
      "outputs": [
        {
          "output_type": "stream",
          "text": [
            "--2020-05-19 11:05:09--  https://dl.fbaipublicfiles.com/fasttext/vectors-crawl/cc.it.300.vec.gz\n",
            "Resolving dl.fbaipublicfiles.com (dl.fbaipublicfiles.com)... 104.22.74.142, 104.22.75.142, 2606:4700:10::6816:4b8e, ...\n",
            "Connecting to dl.fbaipublicfiles.com (dl.fbaipublicfiles.com)|104.22.74.142|:443... connected.\n",
            "HTTP request sent, awaiting response... 200 OK\n",
            "Length: 1272825284 (1.2G) [binary/octet-stream]\n",
            "Saving to: ‘cc.it.300.vec.gz’\n",
            "\n",
            "cc.it.300.vec.gz    100%[===================>]   1.18G  12.2MB/s    in 1m 40s  \n",
            "\n",
            "2020-05-19 11:06:50 (12.1 MB/s) - ‘cc.it.300.vec.gz’ saved [1272825284/1272825284]\n",
            "\n"
          ],
          "name": "stdout"
        }
      ]
    },
    {
      "cell_type": "code",
      "metadata": {
        "id": "I4x43rG3LU-w",
        "colab_type": "code",
        "outputId": "4b0e90a9-9986-4b8b-ad43-77001f76ca7a",
        "colab": {
          "base_uri": "https://localhost:8080/",
          "height": 35
        }
      },
      "source": [
        "embedding_matrix_ita,embedding_index_ita = get_embedding('cc.it.300.vec.gz',tokenizer_italian.word_index,italian_vocab_len,300)"
      ],
      "execution_count": 0,
      "outputs": [
        {
          "output_type": "stream",
          "text": [
            "100%|██████████| 11652/11652 [00:00<00:00, 315682.24it/s]\n"
          ],
          "name": "stderr"
        }
      ]
    },
    {
      "cell_type": "code",
      "metadata": {
        "id": "K00Im5CMbyEc",
        "colab_type": "code",
        "colab": {}
      },
      "source": [
        "# Checking how much words in english and italian was covered by the embedding word vectors\n",
        "def check_coverage(vocab, embeddings_index):\n",
        "\n",
        "  known_words = {}\n",
        "  unknown_words = {}\n",
        "  nb_known_words = 0\n",
        "  nb_unknown_words = 0\n",
        "  for word in vocab.keys():\n",
        "    try:\n",
        "        known_words[word] = embeddings_index[word]\n",
        "        nb_known_words += vocab[word]\n",
        "    except:\n",
        "        unknown_words[word] = vocab[word]\n",
        "        nb_unknown_words += vocab[word]\n",
        "        pass\n",
        "  print('Found embeddings for {:.3%} of vocab'.format(len(known_words) / len(vocab)))\n",
        "  print('Found embeddings for  {:.3%} of all text'.format(nb_known_words / (nb_known_words + nb_unknown_words)))\n",
        "  unknown_words = sorted(unknown_words.items(), key=operator.itemgetter(1))[::-1]\n",
        "\n",
        "  return unknown_words\n"
      ],
      "execution_count": 0,
      "outputs": []
    },
    {
      "cell_type": "code",
      "metadata": {
        "id": "iQuHfH7bby8H",
        "colab_type": "code",
        "outputId": "a1783936-0033-41c6-c94c-0c8119f61f58",
        "colab": {
          "base_uri": "https://localhost:8080/",
          "height": 52
        }
      },
      "source": [
        "eng_oov = check_coverage(tokenizer_english.word_index,embedding_index_eng)"
      ],
      "execution_count": 0,
      "outputs": [
        {
          "output_type": "stream",
          "text": [
            "Found embeddings for 96.483% of vocab\n",
            "Found embeddings for  95.372% of all text\n"
          ],
          "name": "stdout"
        }
      ]
    },
    {
      "cell_type": "code",
      "metadata": {
        "id": "LjBGwDlxcBwQ",
        "colab_type": "code",
        "outputId": "aa4a2707-e70f-467f-feb9-eb3bda8eaaff",
        "colab": {
          "base_uri": "https://localhost:8080/",
          "height": 537
        }
      },
      "source": [
        "eng_oov[:30]"
      ],
      "execution_count": 0,
      "outputs": [
        {
          "output_type": "execute_result",
          "data": {
            "text/plain": [
              "[('achille', 6713),\n",
              " ('all\"', 6684),\n",
              " ('\"not', 6683),\n",
              " ('9:30', 6659),\n",
              " (\"soldiers'\", 6654),\n",
              " (\"grandmother's\", 6645),\n",
              " (\"darwin's\", 6636),\n",
              " (\"limousine's\", 6631),\n",
              " ('30%', 6568),\n",
              " (\"dad's\", 6565),\n",
              " (\"takuboku's\", 6551),\n",
              " (\"aunt's\", 6549),\n",
              " ('audiobook\\xad', 6468),\n",
              " ('il-sung', 6463),\n",
              " ('$200', 6442),\n",
              " (\"physician's\", 6433),\n",
              " (\"speaker's\", 6421),\n",
              " (\"cleaner's\", 6400),\n",
              " (\"moment's\", 6386),\n",
              " ('yukawa', 6384),\n",
              " ('$1000', 6379),\n",
              " (\"policeman's\", 6320),\n",
              " ('i\"', 6309),\n",
              " ('\"neither', 6308),\n",
              " ('like\\xa0eating', 6299),\n",
              " ('i\\xa0feel', 6298),\n",
              " ('5:00', 6297),\n",
              " ('scientist\"', 6279),\n",
              " (\"anything's\", 6264),\n",
              " (\"asperger's\", 6262)]"
            ]
          },
          "metadata": {
            "tags": []
          },
          "execution_count": 25
        }
      ]
    },
    {
      "cell_type": "markdown",
      "metadata": {
        "id": "RYNCGl3EKiIh",
        "colab_type": "text"
      },
      "source": [
        "Nice! We found embeddings for **97%** of all the vocabulary!"
      ]
    },
    {
      "cell_type": "code",
      "metadata": {
        "id": "c7gQSKuBbvgj",
        "colab_type": "code",
        "outputId": "de419822-ae1a-416c-d5f8-7ab6b049d444",
        "colab": {
          "base_uri": "https://localhost:8080/",
          "height": 52
        }
      },
      "source": [
        "oov_ita = check_coverage(tokenizer_italian.word_index,embedding_index_ita)"
      ],
      "execution_count": 0,
      "outputs": [
        {
          "output_type": "stream",
          "text": [
            "Found embeddings for 93.211% of vocab\n",
            "Found embeddings for  91.860% of all text\n"
          ],
          "name": "stdout"
        }
      ]
    },
    {
      "cell_type": "markdown",
      "metadata": {
        "id": "MYrLFs1qK2tO",
        "colab_type": "text"
      },
      "source": [
        "In the case of the target language, we found **93%** embeddings in the vocabulary, which is pretty good.\n",
        "\n",
        "\n",
        "---\n",
        "\n",
        "Since, Google colab has only 12GB of ram , memory will be easily finished after training such a large training set. Therefore, using a generator by using the keyword **yield**\n"
      ]
    },
    {
      "cell_type": "code",
      "metadata": {
        "id": "nr4-Ph7z5QH1",
        "colab_type": "code",
        "colab": {}
      },
      "source": [
        "def generate_batch(X , y , batch_size = 128):\n",
        "\n",
        "    while True:\n",
        "        for j in range(0, len(X), batch_size):\n",
        "            encoder_input_data = pad_sequences(X[j:j+batch_size],maxlen = max_english_len,padding='pre')\n",
        "            decoder_input_data = np.zeros((batch_size, max_italian_len),dtype='float32')\n",
        "            decoder_target_data = np.zeros((batch_size, max_italian_len, italian_vocab_len),dtype='float32')\n",
        "            for i,target_text in enumerate(y[j:j+batch_size]):\n",
        "              for t,word in enumerate(target_text):\n",
        "                if t<len(target_text)-1:\n",
        "                  decoder_input_data[i,t]=word\n",
        "                if t>0:\n",
        "                  decoder_target_data[i,t-1,word]=1\n",
        "            yield ([encoder_input_data, decoder_input_data], decoder_target_data)"
      ],
      "execution_count": 0,
      "outputs": []
    },
    {
      "cell_type": "code",
      "metadata": {
        "id": "HN15cFlWCRZN",
        "colab_type": "code",
        "colab": {}
      },
      "source": [
        "#Splitting data into train and test set\n",
        "X_train,X_test,y_train,y_test = train_test_split(english_sequence,italian_input_sequence,test_size=0.1)"
      ],
      "execution_count": 0,
      "outputs": []
    },
    {
      "cell_type": "markdown",
      "metadata": {
        "id": "QyH_CHJcztp6",
        "colab_type": "text"
      },
      "source": [
        "# **Modelling**\n",
        "\n",
        "**1) Training Model**"
      ]
    },
    {
      "cell_type": "code",
      "metadata": {
        "id": "Uamn8DgFSIaa",
        "colab_type": "code",
        "outputId": "b8bab3f7-0cbe-4ccc-cb76-b695af548fdb",
        "colab": {
          "base_uri": "https://localhost:8080/",
          "height": 537
        }
      },
      "source": [
        "#Encoder\n",
        "encoder_inp = Input(shape=(max_english_len,))\n",
        "en_x = Embedding(english_vocab_len+1,300,weights=[embedding_matrix_eng],trainable=False)(encoder_inp)\n",
        "en_x = SpatialDropout1D(0.4)(en_x)\n",
        "encoder = LSTM(256,return_sequences=True,dropout=0.5)(en_x)\n",
        "lstm = LSTM(256,return_state=True,dropout=0.4)\n",
        "encoder_outputs,state_h,state_c = lstm(encoder)\n",
        "\n",
        "encoder_states=[state_h,state_c]\n",
        "\n",
        "#Decoder\n",
        "decoder_inp = Input(shape=(max_italian_len,))\n",
        "de_x = Embedding(italian_vocab_len+1,300,weights = [embedding_matrix_ita],trainable=False)(decoder_inp)\n",
        "drop = SpatialDropout1D(0.3)\n",
        "final_dex = drop(de_x)\n",
        "decoder_lstm = LSTM(256,return_sequences=True,return_state=True)\n",
        "# Set up the decoder, using `encoder_states` as initial state.\n",
        "decoder_out,_,_ = decoder_lstm(final_dex,initial_state=encoder_states)\n",
        "decoder_dense = Dense(italian_vocab_len,activation='softmax')\n",
        "decoder_out = decoder_dense(decoder_out)\n",
        "\n",
        "fullmodel = Model([encoder_inp,decoder_inp],decoder_out)\n",
        "fullmodel.compile(optimizer = 'rmsprop',loss='categorical_crossentropy',metrics=['accuracy'])\n",
        "fullmodel.summary()"
      ],
      "execution_count": 0,
      "outputs": [
        {
          "output_type": "stream",
          "text": [
            "Model: \"model\"\n",
            "__________________________________________________________________________________________________\n",
            "Layer (type)                    Output Shape         Param #     Connected to                     \n",
            "==================================================================================================\n",
            "input_1 (InputLayer)            [(None, 14)]         0                                            \n",
            "__________________________________________________________________________________________________\n",
            "embedding (Embedding)           (None, 14, 300)      2047800     input_1[0][0]                    \n",
            "__________________________________________________________________________________________________\n",
            "input_2 (InputLayer)            [(None, 20)]         0                                            \n",
            "__________________________________________________________________________________________________\n",
            "spatial_dropout1d (SpatialDropo (None, 14, 300)      0           embedding[0][0]                  \n",
            "__________________________________________________________________________________________________\n",
            "embedding_1 (Embedding)         (None, 20, 300)      3496200     input_2[0][0]                    \n",
            "__________________________________________________________________________________________________\n",
            "lstm (LSTM)                     (None, 14, 256)      570368      spatial_dropout1d[0][0]          \n",
            "__________________________________________________________________________________________________\n",
            "spatial_dropout1d_1 (SpatialDro (None, 20, 300)      0           embedding_1[0][0]                \n",
            "__________________________________________________________________________________________________\n",
            "lstm_1 (LSTM)                   [(None, 256), (None, 525312      lstm[0][0]                       \n",
            "__________________________________________________________________________________________________\n",
            "lstm_2 (LSTM)                   [(None, 20, 256), (N 570368      spatial_dropout1d_1[0][0]        \n",
            "                                                                 lstm_1[0][1]                     \n",
            "                                                                 lstm_1[0][2]                     \n",
            "__________________________________________________________________________________________________\n",
            "dense (Dense)                   (None, 20, 11653)    2994821     lstm_2[0][0]                     \n",
            "==================================================================================================\n",
            "Total params: 10,204,869\n",
            "Trainable params: 4,660,869\n",
            "Non-trainable params: 5,544,000\n",
            "__________________________________________________________________________________________________\n"
          ],
          "name": "stdout"
        }
      ]
    },
    {
      "cell_type": "markdown",
      "metadata": {
        "id": "J0kE3qBoxkko",
        "colab_type": "text"
      },
      "source": [
        "**We can only run about 40 epochs. More than 40 epochs will result in google colab crashing, since it only provides 12GB of RAM**"
      ]
    },
    {
      "cell_type": "code",
      "metadata": {
        "id": "veZA_NfxaLEk",
        "colab_type": "code",
        "colab": {}
      },
      "source": [
        "history = fullmodel.fit(generate_batch(X_train, y_train, batch_size = 128),\n",
        "                    steps_per_epoch = len(X_train)//128,\n",
        "                    epochs=40,                   \n",
        "                    validation_data = generate_batch(X_test, y_test, batch_size = 128),\n",
        "                    validation_steps = len(X_test)//128)\n"
      ],
      "execution_count": 0,
      "outputs": []
    },
    {
      "cell_type": "code",
      "metadata": {
        "id": "Mk6hpz3I2rFy",
        "colab_type": "code",
        "colab": {}
      },
      "source": [
        "fullmodel.save_weights('40epochsMT.h5')"
      ],
      "execution_count": 0,
      "outputs": []
    },
    {
      "cell_type": "code",
      "metadata": {
        "id": "KHpDI6-3xdNT",
        "colab_type": "code",
        "colab": {}
      },
      "source": [
        "fullmodel.load_weights('40epochsMT.h5')"
      ],
      "execution_count": 0,
      "outputs": []
    },
    {
      "cell_type": "markdown",
      "metadata": {
        "id": "mWqimJS6yC8e",
        "colab_type": "text"
      },
      "source": [
        "**2) Inference Model**"
      ]
    },
    {
      "cell_type": "code",
      "metadata": {
        "id": "jA5XhG_HYoKE",
        "colab_type": "code",
        "outputId": "47ea73f6-e2e1-4735-f59b-27e1317662a2",
        "colab": {
          "base_uri": "https://localhost:8080/",
          "height": 329
        }
      },
      "source": [
        "encoder_model = Model(encoder_inp,encoder_states)\n",
        "encoder_model.summary()"
      ],
      "execution_count": 0,
      "outputs": [
        {
          "output_type": "stream",
          "text": [
            "Model: \"model_1\"\n",
            "_________________________________________________________________\n",
            "Layer (type)                 Output Shape              Param #   \n",
            "=================================================================\n",
            "input_1 (InputLayer)         [(None, 14)]              0         \n",
            "_________________________________________________________________\n",
            "embedding (Embedding)        (None, 14, 300)           2047800   \n",
            "_________________________________________________________________\n",
            "spatial_dropout1d (SpatialDr (None, 14, 300)           0         \n",
            "_________________________________________________________________\n",
            "lstm (LSTM)                  (None, 14, 256)           570368    \n",
            "_________________________________________________________________\n",
            "lstm_1 (LSTM)                [(None, 256), (None, 256) 525312    \n",
            "=================================================================\n",
            "Total params: 3,143,480\n",
            "Trainable params: 1,095,680\n",
            "Non-trainable params: 2,047,800\n",
            "_________________________________________________________________\n"
          ],
          "name": "stdout"
        }
      ]
    },
    {
      "cell_type": "code",
      "metadata": {
        "id": "s-TZyvva98YG",
        "colab_type": "code",
        "colab": {}
      },
      "source": [
        "decoder_state_input_h = Input(shape=(256,))\n",
        "decoder_state_input_c = Input(shape=(256,))\n",
        "decoder_states_inputs = [decoder_state_input_h,decoder_state_input_c]\n",
        "final_dex2 = drop(de_x)\n",
        "\n",
        "decoder_outputs2,state_h2,state_c2 = decoder_lstm(final_dex2,initial_state=decoder_states_inputs)\n",
        "decoder_states2 = [state_h2,state_c2]\n",
        "decoder_outputs = decoder_dense(decoder_outputs2)\n",
        "\n",
        "decoder_model = Model([decoder_inp]+decoder_states_inputs,[decoder_outputs]+decoder_states2)"
      ],
      "execution_count": 0,
      "outputs": []
    },
    {
      "cell_type": "code",
      "metadata": {
        "id": "0WefVU9ZEO3Q",
        "colab_type": "code",
        "colab": {}
      },
      "source": [
        "word_index_eng = tokenizer_english.word_index\n",
        "word_index_ita = tokenizer_italian.word_index\n",
        "\n",
        "idx2word_eng = {v:k for k,v in word_index_eng.items()}\n",
        "idx2word_ita = {v:k for k,v in word_index_ita.items()}"
      ],
      "execution_count": 0,
      "outputs": []
    },
    {
      "cell_type": "code",
      "metadata": {
        "id": "22Crx2ITHB9a",
        "colab_type": "code",
        "colab": {}
      },
      "source": [
        "# Function to decode the input sequence\n",
        "def decode_sequence(input_seq):\n",
        "\n",
        "  states_value = encoder_model.predict(input_seq)\n",
        "  target_seq = np.zeros((1,1))\n",
        "  target_seq[0,0] = tokenizer_italian.word_index['start_']\n",
        "  eos = tokenizer_italian.word_index['_end']\n",
        "  translated_sentence =''\n",
        "  stop_condition = False\n",
        "  \n",
        "  while not stop_condition:\n",
        "    output_tokens,h,c = decoder_model.predict([target_seq]+states_value)\n",
        "    sampled_token_index = np.argmax(output_tokens[0,-1,:])\n",
        "    sampled_char = idx2word_ita[sampled_token_index]\n",
        "    translated_sentence+=' '+sampled_char\n",
        "    if(sampled_char == '_end'):\n",
        "      stop_condition=True\n",
        "    target_seq=np.zeros((1,1))\n",
        "    target_seq[0,0]=sampled_token_index\n",
        "    states_value = [h,c]\n",
        "\n",
        "  return translated_sentence\n",
        "\n"
      ],
      "execution_count": 0,
      "outputs": []
    },
    {
      "cell_type": "markdown",
      "metadata": {
        "id": "CznKmPwgyyJd",
        "colab_type": "text"
      },
      "source": [
        "**Let's test out the model!**"
      ]
    },
    {
      "cell_type": "code",
      "metadata": {
        "id": "EnXsSyHeXUr-",
        "colab_type": "code",
        "colab": {}
      },
      "source": [
        "val_gen = generate_batch(X_test, y_test, batch_size = 1)\n",
        "k=-1"
      ],
      "execution_count": 0,
      "outputs": []
    },
    {
      "cell_type": "code",
      "metadata": {
        "id": "CjcdXUtDXd2T",
        "colab_type": "code",
        "outputId": "2829fe9d-bced-4e00-e570-7b4b4396771a",
        "colab": {
          "base_uri": "https://localhost:8080/",
          "height": 139
        }
      },
      "source": [
        "k+=1\n",
        "(input_seq, actual_output), _ = next(val_gen)\n",
        "english_sentence = ''\n",
        "for i in  X_test[k]:\n",
        "  english_sentence+= ' '+idx2word_eng[i]\n",
        "\n",
        "print('English sentence : ',english_sentence)\n",
        "print('\\n')\n",
        "italian_sentence =''\n",
        "for i in y_test[k]:\n",
        "  italian_sentence+= ' '+idx2word_ita[i]\n",
        "print('Actual Italian sentence : ' , italian_sentence[7:-4])\n",
        "print('\\n')\n",
        "\n",
        "decoded_sentence = decode_sequence(input_seq)\n",
        "print('Predicted Italian sentence : ',decoded_sentence[:-4])\n"
      ],
      "execution_count": 0,
      "outputs": [
        {
          "output_type": "stream",
          "text": [
            "English sentence :   tom told me not to talk to mary\n",
            "\n",
            "\n",
            "Actual Italian sentence :   tom mi ha detto di non parlare con mary \n",
            "\n",
            "\n",
            "Predicted Italian sentence :   tom mi ha detto di non parlare con mary \n"
          ],
          "name": "stdout"
        }
      ]
    },
    {
      "cell_type": "code",
      "metadata": {
        "id": "IzOfHBNoZRE3",
        "colab_type": "code",
        "outputId": "ac438df7-d1c8-43fc-a209-25fba04d380a",
        "colab": {
          "base_uri": "https://localhost:8080/",
          "height": 139
        }
      },
      "source": [
        "k+=1\n",
        "(input_seq, actual_output), _ = next(val_gen)\n",
        "english_sentence = ''\n",
        "for i in  X_test[k]:\n",
        "  english_sentence+= ' '+idx2word_eng[i]\n",
        "\n",
        "print('English sentence : ',english_sentence)\n",
        "print('\\n')\n",
        "italian_sentence =''\n",
        "for i in y_test[k]:\n",
        "  italian_sentence+= ' '+idx2word_ita[i]\n",
        "print('Actual Italian sentence : ' , italian_sentence[7:-4])\n",
        "print('\\n')\n",
        "\n",
        "decoded_sentence = decode_sequence(input_seq)\n",
        "print('Predicted Italian sentence : ',decoded_sentence[:-4])\n"
      ],
      "execution_count": 0,
      "outputs": [
        {
          "output_type": "stream",
          "text": [
            "English sentence :   he is the man you met the other day\n",
            "\n",
            "\n",
            "Actual Italian sentence :   è l'uomo che avete conosciuto l'altro giorno \n",
            "\n",
            "\n",
            "Predicted Italian sentence :   lui è l'uomo che hai conosciuto l'altro giorno \n"
          ],
          "name": "stdout"
        }
      ]
    },
    {
      "cell_type": "code",
      "metadata": {
        "id": "MENtlC43bCfP",
        "colab_type": "code",
        "outputId": "90059830-be11-44a9-d77f-0c3599aa7eb9",
        "colab": {
          "base_uri": "https://localhost:8080/",
          "height": 69
        }
      },
      "source": [
        "k+=1\n",
        "(input_seq, actual_output), _ = next(val_gen)\n",
        "english_sentence = ''\n",
        "for i in  X_test[k]:\n",
        "  english_sentence+= ' '+idx2word_eng[i]\n",
        "\n",
        "print('English sentence : ',english_sentence)\n",
        "italian_sentence =''\n",
        "for i in y_test[k]:\n",
        "  italian_sentence+= ' '+idx2word_ita[i]\n",
        "print('Actual Italian sentence : ' , italian_sentence[7:-4])\n",
        "\n",
        "decoded_sentence = decode_sequence(input_seq)\n",
        "print('Predicted Italian sentence : ',decoded_sentence[:-4])\n"
      ],
      "execution_count": 0,
      "outputs": [
        {
          "output_type": "stream",
          "text": [
            "English sentence :   i know you want to come home\n",
            "Actual Italian sentence :   so che volete venire a casa \n",
            "Predicted Italian sentence :   so che voglio andare a casa \n"
          ],
          "name": "stdout"
        }
      ]
    },
    {
      "cell_type": "code",
      "metadata": {
        "id": "zvYGE6YMbEXa",
        "colab_type": "code",
        "outputId": "38e8742c-487d-4097-88d5-5d60fcf27371",
        "colab": {
          "base_uri": "https://localhost:8080/",
          "height": 139
        }
      },
      "source": [
        "k+=1\n",
        "(input_seq, actual_output), _ = next(val_gen)\n",
        "english_sentence = ''\n",
        "for i in  X_test[k]:\n",
        "  english_sentence+= ' '+idx2word_eng[i]\n",
        "\n",
        "print('English sentence : ',english_sentence)\n",
        "print('\\n')\n",
        "italian_sentence =''\n",
        "for i in y_test[k]:\n",
        "  italian_sentence+= ' '+idx2word_ita[i]\n",
        "print('Actual Italian sentence : ' , italian_sentence[7:-4])\n",
        "print('\\n')\n",
        "\n",
        "decoded_sentence = decode_sequence(input_seq)\n",
        "print('Predicted Italian sentence : ',decoded_sentence[:-4])\n"
      ],
      "execution_count": 0,
      "outputs": [
        {
          "output_type": "stream",
          "text": [
            "English sentence :   ask tom to help you\n",
            "\n",
            "\n",
            "Actual Italian sentence :   chieda a tom di aiutarla \n",
            "\n",
            "\n",
            "Predicted Italian sentence :   dica a tom di aiutare \n"
          ],
          "name": "stdout"
        }
      ]
    },
    {
      "cell_type": "code",
      "metadata": {
        "id": "GLwEzqk3Qv93",
        "colab_type": "code",
        "outputId": "2824203f-830f-4ae7-b5fc-e843975999fb",
        "colab": {
          "base_uri": "https://localhost:8080/",
          "height": 139
        }
      },
      "source": [
        "k+=1\n",
        "(input_seq, actual_output), _ = next(val_gen)\n",
        "english_sentence = ''\n",
        "for i in  X_test[k]:\n",
        "  english_sentence+= ' '+idx2word_eng[i]\n",
        "\n",
        "print('English sentence : ',english_sentence)\n",
        "print('\\n')\n",
        "italian_sentence =''\n",
        "for i in y_test[k]:\n",
        "  italian_sentence+= ' '+idx2word_ita[i]\n",
        "print('Actual Italian sentence : ' , italian_sentence[7:-4])\n",
        "print('\\n')\n",
        "\n",
        "decoded_sentence = decode_sequence(input_seq)\n",
        "print('Predicted Italian sentence : ',decoded_sentence[:-4])\n"
      ],
      "execution_count": 0,
      "outputs": [
        {
          "output_type": "stream",
          "text": [
            "English sentence :   i thought i recognized this car\n",
            "\n",
            "\n",
            "Actual Italian sentence :   pensavo di avere riconosciuto quest'automobile \n",
            "\n",
            "\n",
            "Predicted Italian sentence :   io pensavo di avere questa macchina \n"
          ],
          "name": "stdout"
        }
      ]
    },
    {
      "cell_type": "markdown",
      "metadata": {
        "id": "VYjDi0G_3y8p",
        "colab_type": "text"
      },
      "source": [
        "**To make things more interesting let's convert our predicted italian sentence into english by using a library called *google trans*, to see if it has any similarities between them.**"
      ]
    },
    {
      "cell_type": "code",
      "metadata": {
        "id": "bTs85Ws63yEl",
        "colab_type": "code",
        "outputId": "470aee11-7b81-429d-fadc-5dd5e8d597bb",
        "colab": {
          "base_uri": "https://localhost:8080/",
          "height": 280
        }
      },
      "source": [
        "!pip install googletrans"
      ],
      "execution_count": 0,
      "outputs": [
        {
          "output_type": "stream",
          "text": [
            "Collecting googletrans\n",
            "  Downloading https://files.pythonhosted.org/packages/fd/f0/a22d41d3846d1f46a4f20086141e0428ccc9c6d644aacbfd30990cf46886/googletrans-2.4.0.tar.gz\n",
            "Requirement already satisfied: requests in /usr/local/lib/python3.6/dist-packages (from googletrans) (2.23.0)\n",
            "Requirement already satisfied: chardet<4,>=3.0.2 in /usr/local/lib/python3.6/dist-packages (from requests->googletrans) (3.0.4)\n",
            "Requirement already satisfied: urllib3!=1.25.0,!=1.25.1,<1.26,>=1.21.1 in /usr/local/lib/python3.6/dist-packages (from requests->googletrans) (1.24.3)\n",
            "Requirement already satisfied: idna<3,>=2.5 in /usr/local/lib/python3.6/dist-packages (from requests->googletrans) (2.9)\n",
            "Requirement already satisfied: certifi>=2017.4.17 in /usr/local/lib/python3.6/dist-packages (from requests->googletrans) (2020.4.5.1)\n",
            "Building wheels for collected packages: googletrans\n",
            "  Building wheel for googletrans (setup.py) ... \u001b[?25l\u001b[?25hdone\n",
            "  Created wheel for googletrans: filename=googletrans-2.4.0-cp36-none-any.whl size=15777 sha256=5d1f8d3d8cd799b8e38f64d34b2b47fc262f40a29abc47108a692fbc537165fb\n",
            "  Stored in directory: /root/.cache/pip/wheels/50/d6/e7/a8efd5f2427d5eb258070048718fa56ee5ac57fd6f53505f95\n",
            "Successfully built googletrans\n",
            "Installing collected packages: googletrans\n",
            "Successfully installed googletrans-2.4.0\n"
          ],
          "name": "stdout"
        }
      ]
    },
    {
      "cell_type": "code",
      "metadata": {
        "id": "sh6Qb3w1wRWg",
        "colab_type": "code",
        "outputId": "82d45367-cbc9-42af-b4f7-5ac124349cc8",
        "colab": {
          "base_uri": "https://localhost:8080/",
          "height": 191
        }
      },
      "source": [
        "from googletrans import Translator\n",
        "translator = Translator()\n",
        "\n",
        "k+=1\n",
        "(input_seq, actual_output), _ = next(val_gen)\n",
        "english_sentence = ''\n",
        "for i in  X_test[k]:\n",
        "  english_sentence+= ' '+idx2word_eng[i]\n",
        "\n",
        "print('English sentence : ',english_sentence)\n",
        "print('\\n')\n",
        "italian_sentence =''\n",
        "for i in y_test[k]:\n",
        "  italian_sentence+= ' '+idx2word_ita[i]\n",
        "print('Actual Italian sentence : ' , italian_sentence[7:-4])\n",
        "print('\\n')\n",
        "\n",
        "decoded_sentence = decode_sequence(input_seq)\n",
        "print('Predicted Italian sentence : ',decoded_sentence[:-4])\n",
        "print('\\n')\n",
        "print('Predicted Italian sentence( in English)', translator.translate(decoded_sentence[:-4]).text) "
      ],
      "execution_count": 0,
      "outputs": [
        {
          "output_type": "stream",
          "text": [
            "English sentence :   i am very happy to make your acquaintance\n",
            "\n",
            "\n",
            "Actual Italian sentence :   sono molto contento di fare la sua conoscenza \n",
            "\n",
            "\n",
            "Predicted Italian sentence :   sono molto felice di fare la sua conoscenza \n",
            "\n",
            "\n",
            "Predicted Italian sentence( in English) I am very happy to make your acquaintance\n"
          ],
          "name": "stdout"
        }
      ]
    },
    {
      "cell_type": "code",
      "metadata": {
        "id": "-erECuue13Jt",
        "colab_type": "code",
        "outputId": "584e3efe-1847-48f5-8fff-a6085b61716c",
        "colab": {
          "base_uri": "https://localhost:8080/",
          "height": 191
        }
      },
      "source": [
        "\n",
        "k+=1\n",
        "(input_seq, actual_output), _ = next(val_gen)\n",
        "english_sentence = ''\n",
        "for i in  X_test[k]:\n",
        "  english_sentence+= ' '+idx2word_eng[i]\n",
        "\n",
        "print('English sentence : ',english_sentence)\n",
        "print('\\n')\n",
        "italian_sentence =''\n",
        "for i in y_test[k]:\n",
        "  italian_sentence+= ' '+idx2word_ita[i]\n",
        "print('Actual Italian sentence : ' , italian_sentence[7:-4])\n",
        "print('\\n')\n",
        "\n",
        "decoded_sentence = decode_sequence(input_seq)\n",
        "print('Predicted Italian sentence : ',decoded_sentence[:-4])\n",
        "print('\\n')\n",
        "print('Predicted Italian sentence( in English): ', translator.translate(decoded_sentence[:-4]).text) "
      ],
      "execution_count": 0,
      "outputs": [
        {
          "output_type": "stream",
          "text": [
            "English sentence :   i know tom is writing a book\n",
            "\n",
            "\n",
            "Actual Italian sentence :   so che tom sta scrivendo un libro \n",
            "\n",
            "\n",
            "Predicted Italian sentence :   so che tom sta facendo un libro \n",
            "\n",
            "\n",
            "Predicted Italian sentence( in English):  I know that Tom is doing a book\n"
          ],
          "name": "stdout"
        }
      ]
    },
    {
      "cell_type": "code",
      "metadata": {
        "id": "pcdOHJe_14EH",
        "colab_type": "code",
        "outputId": "b221997e-0cef-4e6c-e98e-58a8a947dd59",
        "colab": {
          "base_uri": "https://localhost:8080/",
          "height": 191
        }
      },
      "source": [
        "\n",
        "k+=1\n",
        "(input_seq, actual_output), _ = next(val_gen)\n",
        "english_sentence = ''\n",
        "for i in  X_test[k]:\n",
        "  english_sentence+= ' '+idx2word_eng[i]\n",
        "\n",
        "print('English sentence : ',english_sentence)\n",
        "print('\\n')\n",
        "italian_sentence =''\n",
        "for i in y_test[k]:\n",
        "  italian_sentence+= ' '+idx2word_ita[i]\n",
        "print('Actual Italian sentence : ' , italian_sentence[7:-4])\n",
        "print('\\n')\n",
        "\n",
        "decoded_sentence = decode_sequence(input_seq)\n",
        "print('Predicted Italian sentence : ',decoded_sentence[:-4])\n",
        "print('\\n')\n",
        "print('Predicted Italian sentence( in English): ', translator.translate(decoded_sentence[:-4]).text) "
      ],
      "execution_count": 0,
      "outputs": [
        {
          "output_type": "stream",
          "text": [
            "English sentence :   how are you going\n",
            "\n",
            "\n",
            "Actual Italian sentence :   come state \n",
            "\n",
            "\n",
            "Predicted Italian sentence :   come stai andando \n",
            "\n",
            "\n",
            "Predicted Italian sentence( in English):  how are you going\n"
          ],
          "name": "stdout"
        }
      ]
    },
    {
      "cell_type": "code",
      "metadata": {
        "id": "gc5B6PDX5MpB",
        "colab_type": "code",
        "outputId": "46f5adb0-5130-4155-af39-b2859f955045",
        "colab": {
          "base_uri": "https://localhost:8080/",
          "height": 191
        }
      },
      "source": [
        "\n",
        "k+=1\n",
        "(input_seq, actual_output), _ = next(val_gen)\n",
        "english_sentence = ''\n",
        "for i in  X_test[k]:\n",
        "  english_sentence+= ' '+idx2word_eng[i]\n",
        "\n",
        "print('English sentence : ',english_sentence)\n",
        "print('\\n')\n",
        "italian_sentence =''\n",
        "for i in y_test[k]:\n",
        "  italian_sentence+= ' '+idx2word_ita[i]\n",
        "print('Actual Italian sentence : ' , italian_sentence[7:-4])\n",
        "print('\\n')\n",
        "\n",
        "decoded_sentence = decode_sequence(input_seq)\n",
        "print('Predicted Italian sentence : ',decoded_sentence[:-4])\n",
        "print('\\n')\n",
        "print('Predicted Italian sentence( in English): ', translator.translate(decoded_sentence[:-4]).text) \n"
      ],
      "execution_count": 0,
      "outputs": [
        {
          "output_type": "stream",
          "text": [
            "English sentence :   i am sure tom will not be arrested\n",
            "\n",
            "\n",
            "Actual Italian sentence :   io sono sicuro che tom non sarà arrestato \n",
            "\n",
            "\n",
            "Predicted Italian sentence :   sono sicuro che tom non sarà visto \n",
            "\n",
            "\n",
            "Predicted Italian sentence( in English):  I'm sure that Tom will not be seen\n"
          ],
          "name": "stdout"
        }
      ]
    },
    {
      "cell_type": "code",
      "metadata": {
        "id": "_FW0Ej-J5wLt",
        "colab_type": "code",
        "outputId": "c0c7e8ce-f094-4e89-db40-4fc6113967f0",
        "colab": {
          "base_uri": "https://localhost:8080/",
          "height": 191
        }
      },
      "source": [
        "\n",
        "k+=1\n",
        "(input_seq, actual_output), _ = next(val_gen)\n",
        "english_sentence = ''\n",
        "for i in  X_test[k]:\n",
        "  english_sentence+= ' '+idx2word_eng[i]\n",
        "\n",
        "print('English sentence : ',english_sentence)\n",
        "print('\\n')\n",
        "italian_sentence =''\n",
        "for i in y_test[k]:\n",
        "  italian_sentence+= ' '+idx2word_ita[i]\n",
        "print('Actual Italian sentence : ' , italian_sentence[7:-4])\n",
        "print('\\n')\n",
        "\n",
        "decoded_sentence = decode_sequence(input_seq)\n",
        "print('Predicted Italian sentence : ',decoded_sentence[:-4])\n",
        "print('\\n')\n",
        "print('Predicted Italian sentence( in English): ', translator.translate(decoded_sentence[:-4]).text) \n"
      ],
      "execution_count": 0,
      "outputs": [
        {
          "output_type": "stream",
          "text": [
            "English sentence :   i do not want to go back there\n",
            "\n",
            "\n",
            "Actual Italian sentence :   io non voglio tornare lì \n",
            "\n",
            "\n",
            "Predicted Italian sentence :   non voglio andare lì \n",
            "\n",
            "\n",
            "Predicted Italian sentence( in English):  I do not want to go there\n"
          ],
          "name": "stdout"
        }
      ]
    },
    {
      "cell_type": "code",
      "metadata": {
        "id": "lL8_Mxd_6B5t",
        "colab_type": "code",
        "outputId": "295382c6-04a9-4017-b653-2f90827d2b62",
        "colab": {
          "base_uri": "https://localhost:8080/",
          "height": 191
        }
      },
      "source": [
        "\n",
        "k+=1\n",
        "(input_seq, actual_output), _ = next(val_gen)\n",
        "english_sentence = ''\n",
        "for i in  X_test[k]:\n",
        "  english_sentence+= ' '+idx2word_eng[i]\n",
        "\n",
        "print('English sentence : ',english_sentence)\n",
        "print('\\n')\n",
        "italian_sentence =''\n",
        "for i in y_test[k]:\n",
        "  italian_sentence+= ' '+idx2word_ita[i]\n",
        "print('Actual Italian sentence : ' , italian_sentence[7:-4])\n",
        "print('\\n')\n",
        "\n",
        "decoded_sentence = decode_sequence(input_seq)\n",
        "print('Predicted Italian sentence : ',decoded_sentence[:-4])\n",
        "print('\\n')\n",
        "print('Predicted Italian sentence( in English): ', translator.translate(decoded_sentence[:-4]).text) \n"
      ],
      "execution_count": 0,
      "outputs": [
        {
          "output_type": "stream",
          "text": [
            "English sentence :   i want what is best for tom\n",
            "\n",
            "\n",
            "Actual Italian sentence :   io voglio ciò che è meglio per tom \n",
            "\n",
            "\n",
            "Predicted Italian sentence :   io so cosa sta bene a tom \n",
            "\n",
            "\n",
            "Predicted Italian sentence( in English):  I know what's good for tom\n"
          ],
          "name": "stdout"
        }
      ]
    },
    {
      "cell_type": "code",
      "metadata": {
        "id": "KDjvMtPM6Zwz",
        "colab_type": "code",
        "outputId": "e5475ed5-42e0-4f65-80bd-0e89feb354c2",
        "colab": {
          "base_uri": "https://localhost:8080/",
          "height": 191
        }
      },
      "source": [
        "\n",
        "k+=1\n",
        "(input_seq, actual_output), _ = next(val_gen)\n",
        "english_sentence = ''\n",
        "for i in  X_test[k]:\n",
        "  english_sentence+= ' '+idx2word_eng[i]\n",
        "\n",
        "print('English sentence : ',english_sentence)\n",
        "print('\\n')\n",
        "italian_sentence =''\n",
        "for i in y_test[k]:\n",
        "  italian_sentence+= ' '+idx2word_ita[i]\n",
        "print('Actual Italian sentence : ' , italian_sentence[7:-4])\n",
        "print('\\n')\n",
        "\n",
        "decoded_sentence = decode_sequence(input_seq)\n",
        "print('Predicted Italian sentence : ',decoded_sentence[:-4])\n",
        "print('\\n')\n",
        "print('Predicted Italian sentence( in English): ', translator.translate(decoded_sentence[:-4]).text) \n"
      ],
      "execution_count": 0,
      "outputs": [
        {
          "output_type": "stream",
          "text": [
            "English sentence :   i will not let you go\n",
            "\n",
            "\n",
            "Actual Italian sentence :   io non ti lascerò andare \n",
            "\n",
            "\n",
            "Predicted Italian sentence :   non ti lascerò andare \n",
            "\n",
            "\n",
            "Predicted Italian sentence( in English):  not let you go\n"
          ],
          "name": "stdout"
        }
      ]
    },
    {
      "cell_type": "code",
      "metadata": {
        "id": "Y_uEzbfE7Ajr",
        "colab_type": "code",
        "outputId": "8ea8506e-fa3b-4cb6-e223-e251a3abad82",
        "colab": {
          "base_uri": "https://localhost:8080/",
          "height": 191
        }
      },
      "source": [
        "\n",
        "k+=1\n",
        "(input_seq, actual_output), _ = next(val_gen)\n",
        "english_sentence = ''\n",
        "for i in  X_test[k]:\n",
        "  english_sentence+= ' '+idx2word_eng[i]\n",
        "\n",
        "print('English sentence : ',english_sentence)\n",
        "print('\\n')\n",
        "italian_sentence =''\n",
        "for i in y_test[k]:\n",
        "  italian_sentence+= ' '+idx2word_ita[i]\n",
        "print('Actual Italian sentence : ' , italian_sentence[7:-4])\n",
        "print('\\n')\n",
        "\n",
        "decoded_sentence = decode_sequence(input_seq)\n",
        "print('Predicted Italian sentence : ',decoded_sentence[:-4])\n",
        "print('\\n')\n",
        "print('Predicted Italian sentence( in English): ', translator.translate(decoded_sentence[:-4]).text) \n"
      ],
      "execution_count": 0,
      "outputs": [
        {
          "output_type": "stream",
          "text": [
            "English sentence :   it was three years ago\n",
            "\n",
            "\n",
            "Actual Italian sentence :   era tre anni fa \n",
            "\n",
            "\n",
            "Predicted Italian sentence :   era tre anni fa \n",
            "\n",
            "\n",
            "Predicted Italian sentence( in English):  It was three years ago\n"
          ],
          "name": "stdout"
        }
      ]
    },
    {
      "cell_type": "markdown",
      "metadata": {
        "id": "nEC_YnCF7eQ7",
        "colab_type": "text"
      },
      "source": [
        "**Wow! Even though the model was only trained for 40 epochs(Memory issues), it produces good results!**"
      ]
    }
  ]
}